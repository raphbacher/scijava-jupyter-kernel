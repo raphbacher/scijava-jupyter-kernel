{
 "cells": [
  {
   "cell_type": "markdown",
   "metadata": {},
   "source": [
    "# Java : Tableaux, membre de classe `static` \n",
    "\n",
    "A partir de l'exemple `TestTableaux.java`"
   ]
  },
  {
   "cell_type": "code",
   "execution_count": null,
   "metadata": {
    "collapsed": true
   },
   "outputs": [],
   "source": [
    "// une classe un peu bête....\n",
    "class CompteEnBanque {\n",
    "    int numero;\n",
    "    int solde;\n",
    "\n",
    "    private static int nbInstances = 0; // un attribut de classe. On l'initialise lors de la déclaration\n",
    "\n",
    "    public CompteEnBanque(int solde) {\n",
    "        this.solde = solde;\n",
    "        nbInstances ++;\n",
    "        this.numero = nbInstances;\n",
    "    }\n",
    "\n",
    "    @Override\n",
    "    public String toString() {\n",
    "        return \"je suis un CompteEnBanque. numero=\" + numero + \". solde=\" + solde;\n",
    "    }\n",
    "\n",
    "    // une méthode de classe\n",
    "    static int getNbInstances() {\n",
    "        return nbInstances;\n",
    "    }\n",
    "}"
   ]
  },
  {
   "cell_type": "markdown",
   "metadata": {},
   "source": [
    "## Un premier tableau d'entiers"
   ]
  },
  {
   "cell_type": "markdown",
   "metadata": {},
   "source": [
    "* declaration \n",
    "* construction : allocation + initialisation par défaut"
   ]
  },
  {
   "cell_type": "code",
   "execution_count": null,
   "metadata": {
    "collapsed": false
   },
   "outputs": [],
   "source": [
    "int[] tab;          // déclaration, tab n'est pas encore initalisé. \n",
    "                    // tab est une référence, initialisée à null\n",
    "tab = new int[5];   // allocation du tableau;"
   ]
  },
  {
   "cell_type": "markdown",
   "metadata": {},
   "source": [
    "* les indices vont de `0` à `tab.length - 1`, ici `4`\n",
    "* les valeurs sont initialisées à `0`\n",
    "* la taille du tableau ne peut plus être modifiée après"
   ]
  },
  {
   "cell_type": "markdown",
   "metadata": {},
   "source": [
    "#### Acces via l'opérateur `[]`"
   ]
  },
  {
   "cell_type": "code",
   "execution_count": null,
   "metadata": {
    "collapsed": false
   },
   "outputs": [],
   "source": [
    "tab[0]= 2 ;\n",
    "System.out.println(\"valeur à l'indice 4 -> \" +  tab[4] ) ; // affiche valeur à l'indice 4 -> 0"
   ]
  },
  {
   "cell_type": "markdown",
   "metadata": {},
   "source": [
    "#### Debordement"
   ]
  },
  {
   "cell_type": "code",
   "execution_count": null,
   "metadata": {
    "collapsed": false
   },
   "outputs": [],
   "source": [
    "tab[5] = 45 ;   // Que se passe-t-il ?"
   ]
  },
  {
   "cell_type": "markdown",
   "metadata": {},
   "source": [
    "### Parcours du tableau :\n",
    "* parcours par une boucle et utilisation de l'attribut  `.length`, qui est immutable (déclaré `final`)"
   ]
  },
  {
   "cell_type": "code",
   "execution_count": null,
   "metadata": {
    "collapsed": true
   },
   "outputs": [],
   "source": [
    "for (int i = 0; i < tab.length; i++) {\n",
    "    tab[i] = 2*i;\n",
    "}"
   ]
  },
  {
   "cell_type": "markdown",
   "metadata": {},
   "source": [
    "* Autre parcours, de type **for each** : pour appliquer un traitement à **tous** les éléments contenu dans le tableau\n",
    "  * Lire *pour chaque entier \"valeur\" dans le tableau tab...*"
   ]
  },
  {
   "cell_type": "code",
   "execution_count": null,
   "metadata": {
    "collapsed": false
   },
   "outputs": [],
   "source": [
    "for (int valeur : tab) {\n",
    "    System.out.println(\"valeur : \" + valeur);\n",
    "}"
   ]
  },
  {
   "cell_type": "markdown",
   "metadata": {},
   "source": [
    "## Tableau 1D d'objets (ou plutôt : de références)"
   ]
  },
  {
   "cell_type": "markdown",
   "metadata": {},
   "source": [
    "* Déclaration et construction d'un tableau de références sur des objets de type CompteEnBanque"
   ]
  },
  {
   "cell_type": "code",
   "execution_count": null,
   "metadata": {
    "collapsed": false
   },
   "outputs": [],
   "source": [
    "int n = 6; // tableau dont la taille est une variable !\n",
    "CompteEnBanque[] tabDeComptes = new CompteEnBanque[n];\n",
    "// => les références sont initialisées à null \n",
    "\n",
    "for (CompteEnBanque unCompte : tabDeComptes) {     // Affiche n fois \"null\"\n",
    "    System.out.println(\"valeur : \" + unCompte);\n",
    "}"
   ]
  },
  {
   "cell_type": "markdown",
   "metadata": {},
   "source": [
    "* Construction des objets : on stocke les références dans le tableau"
   ]
  },
  {
   "cell_type": "code",
   "execution_count": null,
   "metadata": {
    "collapsed": false
   },
   "outputs": [],
   "source": [
    "for (int i = 0; i < tabDeComptes.length; i++) {\n",
    "    tabDeComptes[i] = new CompteEnBanque(2*i);  // allocation objet par objet\n",
    "}"
   ]
  },
  {
   "cell_type": "markdown",
   "metadata": {},
   "source": [
    "### Quizz\n",
    "* Pourquoi ne peut on pas utiliser une boucle *foreach* ci dessus ?"
   ]
  },
  {
   "cell_type": "markdown",
   "metadata": {},
   "source": [
    "### Memoire \n",
    "Comprenons bien ce qui se passe en mémoire..."
   ]
  },
  {
   "cell_type": "code",
   "execution_count": null,
   "metadata": {
    "collapsed": false
   },
   "outputs": [],
   "source": [
    "CompteEnBanque[] tabDeComptes2 = tabDeComptes;  //que se passe-t-il en mémoire ?\n",
    "tabDeComptes2[0] = new CompteEnBanque(1111);    //que se passe-t-il en mémoire ?\n",
    "\n",
    "// que se passe-t-il en mémoire ?\n",
    "tabDeComptes2 = new CompteEnBanque[n];\n",
    "for (int i = 0; i < tabDeComptes2.length; i++) {\n",
    "    tabDeComptes2[i] = tabDeComptes[i];\n",
    "}"
   ]
  },
  {
   "cell_type": "markdown",
   "metadata": {},
   "source": [
    "### Exemple d'appel d'une méthode static\n",
    "#### Quizz : Combien existe-t-il d'objet CompteEnBanque en mémoire ? Vérifions"
   ]
  },
  {
   "cell_type": "code",
   "execution_count": null,
   "metadata": {
    "collapsed": false
   },
   "outputs": [],
   "source": [
    "int nbAlloues = CompteEnBanque.getNbInstances(); // méthode static => on peut utiliser le nom de la classe\n",
    "System.out.println(\"Au total, \" + nbAlloues + \" objets compte ont été alloués depuis le lancement du programme\");"
   ]
  },
  {
   "cell_type": "markdown",
   "metadata": {},
   "source": [
    "## Tableaux 2D\n",
    "\n",
    "* Tableau de *Tableau 1D*\n",
    "* allocation case par case : dimensions par forcément identiques !"
   ]
  },
  {
   "cell_type": "code",
   "execution_count": null,
   "metadata": {
    "collapsed": false
   },
   "outputs": [],
   "source": [
    "int[][] tab2D;\n",
    "tab2D = new int[5][]; // tab de 5 références null\n",
    "for (int i = 0; i < tab2D.length; i++) {\n",
    "    tab2D[i] = new int[i + 1];\n",
    "}\n",
    "\n",
    "// et maintenant, tout simplement :\n",
    "tab2D[1][0] = 45;"
   ]
  },
  {
   "cell_type": "markdown",
   "metadata": {},
   "source": [
    "## Examples d'usage de la classe Arrays (=> notion secondaire pour ce module)"
   ]
  },
  {
   "cell_type": "code",
   "execution_count": null,
   "metadata": {
    "collapsed": true
   },
   "outputs": [],
   "source": [
    "import java.util.Arrays;\n",
    "import java.util.Random;"
   ]
  },
  {
   "cell_type": "code",
   "execution_count": null,
   "metadata": {
    "collapsed": true
   },
   "outputs": [],
   "source": [
    "int[] vec = new int[5];\n",
    "Random rn = new Random(); // pour avoir un générateur de nombre aléatoire\n",
    "for (int i = 0; i < tab.length; i++) {\n",
    "    vec[i] = rn.nextInt(1000); // nb aleatoire entre 0 et 999\n",
    "}"
   ]
  },
  {
   "cell_type": "markdown",
   "metadata": {},
   "source": [
    "### Tri\n",
    "* Utilisation de la _méthode de classe_ `sort()` de la classe `Arrays` qui implémente l'algorithme \"quicksort\" => en $O(n \\log(n) )$"
   ]
  },
  {
   "cell_type": "code",
   "execution_count": null,
   "metadata": {
    "collapsed": false
   },
   "outputs": [],
   "source": [
    "Arrays.sort(vec);\n",
    "for (int valeur : vec) {\n",
    "    System.out.println(\"valeur triées : \" + valeur);\n",
    "}"
   ]
  },
  {
   "cell_type": "markdown",
   "metadata": {},
   "source": [
    "### Recherche\n",
    "* avec la _méthode de classe_ `binarySearch()` de la classe `Arrays`\n",
    "* il faut que le tableau soit trié avant la recherche..."
   ]
  },
  {
   "cell_type": "code",
   "execution_count": null,
   "metadata": {
    "collapsed": false
   },
   "outputs": [],
   "source": [
    "int pos = Arrays.binarySearch(vec, 500);\n",
    "if( pos >= 0 )\n",
    "    System.out.println(\"position de 500 : \" + pos);\n",
    "else \n",
    "    System.out.println(\"500 n’est pas dans le tableau\"); "
   ]
  },
  {
   "cell_type": "markdown",
   "metadata": {},
   "source": [
    "### Copie\n",
    "* avec la _méthode de classe_ `copyOf()` de la classe `Arrays`"
   ]
  },
  {
   "cell_type": "code",
   "execution_count": null,
   "metadata": {
    "collapsed": false
   },
   "outputs": [],
   "source": [
    "int[] vec2 = Arrays.copyOf(vec, vec.length);\n",
    "vec2[3] = 5;"
   ]
  },
  {
   "cell_type": "markdown",
   "metadata": {},
   "source": [
    "* Que se passe-t-il en mémoire ?\n",
    "* Que se passe-t-il si on copie, avec `Arrays.copyOf()` un tableau *contenant* des objets ?"
   ]
  }
 ],
 "metadata": {
  "kernelspec": {
   "display_name": "Java",
   "language": "java",
   "name": "java"
  },
  "language_info": {
   "codemirror_mode": "java",
   "file_extension": ".java",
   "mimetype": "text/x-java-source",
   "name": "Java",
   "pygments_lexer": "java",
   "version": "9.0.4+11"
  }
 },
 "nbformat": 4,
 "nbformat_minor": 2
}
